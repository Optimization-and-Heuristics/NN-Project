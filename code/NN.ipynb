{
 "cells": [
  {
   "cell_type": "code",
   "execution_count": 1,
   "metadata": {},
   "outputs": [],
   "source": [
    "import pandas as pd\n",
    "import numpy as np\n",
    "from clases.NeuronalNetwork import SimpleNeuralNetwork\n",
    "from clases.Optimizer import SGDOptimizer, AdamOptimizer\n",
    "from clases.Trainer import Trainer\n",
    "import warnings\n",
    "from clases.ActivationFunction import *"
   ]
  },
  {
   "cell_type": "code",
   "execution_count": 2,
   "metadata": {},
   "outputs": [],
   "source": [
    "warnings.filterwarnings(\"ignore\")\n",
    "\n",
    "data = pd.read_csv('../datos/mnist_data.csv')\n",
    "data = np.array(data)\n",
    "m, n = data.shape\n",
    "np.random.shuffle(data)\n",
    "\n",
    "test_size = int(0.1 * m)\n",
    "data_test = data[:test_size, :].T  # El 10% inicial para el conjunto de prueba\n",
    "\n",
    "# El conjunto provisional restante (90%)\n",
    "remaining_data = data[test_size:, :]\n",
    "\n",
    "train_size = int(0.8 * m)\n",
    "data_train = remaining_data[:train_size, :].T  # El siguiente 80% para entrenamiento\n",
    "data_validation = remaining_data[train_size:, :].T  # El resto 10% para validación\n",
    "\n",
    "X_train, Y_train = data_train[1:], data_train[0]\n",
    "X_val, Y_val = data_validation[1:], data_validation[0]\n",
    "X_test, Y_test = data_test[1:], data_test[0]"
   ]
  },
  {
   "cell_type": "code",
   "execution_count": 3,
   "metadata": {},
   "outputs": [
    {
     "name": "stdout",
     "output_type": "stream",
     "text": [
      "-----------------------------------------------------------\n",
      "| end of epoch   0 | time:  0.13s | valid accuracy    0.050 \n",
      "-----------------------------------------------------------\n",
      "| end of epoch  10 | time:  0.12s | valid accuracy    0.235 \n",
      "-----------------------------------------------------------\n",
      "| end of epoch  20 | time:  0.12s | valid accuracy    0.409 \n",
      "-----------------------------------------------------------\n",
      "| end of epoch  30 | time:  0.12s | valid accuracy    0.604 \n",
      "-----------------------------------------------------------\n",
      "| end of epoch  40 | time:  0.12s | valid accuracy    0.705 \n",
      "-----------------------------------------------------------\n",
      "| end of epoch  50 | time:  0.13s | valid accuracy    0.751 \n",
      "-----------------------------------------------------------\n",
      "| end of epoch  60 | time:  0.12s | valid accuracy    0.778 \n",
      "-----------------------------------------------------------\n",
      "| end of epoch  70 | time:  0.13s | valid accuracy    0.800 \n",
      "-----------------------------------------------------------\n",
      "| end of epoch  80 | time:  0.13s | valid accuracy    0.815 \n",
      "-----------------------------------------------------------\n",
      "| end of epoch  90 | time:  0.14s | valid accuracy    0.829 \n",
      "-----------------------------------------------------------\n",
      "| end of epoch 100 | time:  0.13s | valid accuracy    0.835 \n",
      "-----------------------------------------------------------\n"
     ]
    }
   ],
   "source": [
    "model = SimpleNeuralNetwork(input_size=784, output_size=10, activation_function=relu, activation_function_d=relu_derivative, output_function=softmax)\n",
    "optimizer = SGDOptimizer(learning_rate=0.001)\n",
    "trainer = Trainer(model, optimizer)\n",
    "trainer.train(X_train, Y_train,X_val,Y_val, epochs=100)"
   ]
  },
  {
   "cell_type": "code",
   "execution_count": 4,
   "metadata": {},
   "outputs": [
    {
     "name": "stdout",
     "output_type": "stream",
     "text": [
      "-----------------------------------------------------------\n",
      "| end of epoch   0 | time:  0.19s | valid accuracy    0.177 \n",
      "-----------------------------------------------------------\n",
      "| end of epoch  10 | time:  0.12s | valid accuracy    0.639 \n",
      "-----------------------------------------------------------\n",
      "| end of epoch  20 | time:  0.13s | valid accuracy    0.820 \n",
      "-----------------------------------------------------------\n",
      "| end of epoch  30 | time:  0.12s | valid accuracy    0.877 \n",
      "-----------------------------------------------------------\n",
      "| end of epoch  40 | time:  0.12s | valid accuracy    0.903 \n",
      "-----------------------------------------------------------\n",
      "| end of epoch  50 | time:  0.13s | valid accuracy    0.914 \n",
      "-----------------------------------------------------------\n",
      "| end of epoch  60 | time:  0.12s | valid accuracy    0.918 \n",
      "-----------------------------------------------------------\n",
      "| end of epoch  70 | time:  0.13s | valid accuracy    0.923 \n",
      "-----------------------------------------------------------\n",
      "| end of epoch  80 | time:  0.12s | valid accuracy    0.925 \n",
      "-----------------------------------------------------------\n",
      "| end of epoch  90 | time:  0.12s | valid accuracy    0.926 \n",
      "-----------------------------------------------------------\n",
      "| end of epoch 100 | time:  0.12s | valid accuracy    0.929 \n",
      "-----------------------------------------------------------\n"
     ]
    }
   ],
   "source": [
    "model = SimpleNeuralNetwork(input_size=784, output_size=10, activation_function=relu, activation_function_d=relu_derivative, output_function=softmax)\n",
    "optimizer = AdamOptimizer(learning_rate=0.001)\n",
    "trainer = Trainer(model, optimizer)\n",
    "trainer.train(X_train, Y_train,X_val,Y_val, epochs=100)"
   ]
  }
 ],
 "metadata": {
  "kernelspec": {
   "display_name": "Python 3",
   "language": "python",
   "name": "python3"
  },
  "language_info": {
   "codemirror_mode": {
    "name": "ipython",
    "version": 3
   },
   "file_extension": ".py",
   "mimetype": "text/x-python",
   "name": "python",
   "nbconvert_exporter": "python",
   "pygments_lexer": "ipython3",
   "version": "3.7.0"
  }
 },
 "nbformat": 4,
 "nbformat_minor": 2
}
