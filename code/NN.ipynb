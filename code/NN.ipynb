{
 "cells": [
  {
   "cell_type": "code",
   "execution_count": 184,
   "metadata": {},
   "outputs": [],
   "source": [
    "import pandas as pd\n",
    "import numpy as np\n",
    "from clases.NeuronalNetwork import SimpleNeuralNetwork\n",
    "from clases.Optimizer import SGDOptimizer, AdamOptimizer\n",
    "from clases.Trainer import Trainer\n",
    "from clases.LossFunction import *\n",
    "from clases.ActivationFunction import *\n",
    "\n",
    "import warnings\n",
    "warnings.filterwarnings(\"ignore\")"
   ]
  },
  {
   "cell_type": "markdown",
   "metadata": {},
   "source": [
    "## MNIST Data"
   ]
  },
  {
   "cell_type": "markdown",
   "metadata": {},
   "source": [
    "### Load Data"
   ]
  },
  {
   "cell_type": "code",
   "execution_count": 185,
   "metadata": {},
   "outputs": [],
   "source": [
    "data = pd.read_csv('../datos/mnist_data.csv')\n",
    "data = np.array(data)"
   ]
  },
  {
   "cell_type": "markdown",
   "metadata": {},
   "source": [
    "### Split Data"
   ]
  },
  {
   "cell_type": "code",
   "execution_count": 186,
   "metadata": {},
   "outputs": [],
   "source": [
    "m, n = data.shape\n",
    "np.random.shuffle(data)\n",
    "\n",
    "test_size = int(0.1 * m)\n",
    "data_test = data[:test_size, :].T  # El 10% inicial para el conjunto de prueba\n",
    "\n",
    "# El conjunto provisional restante (90%)\n",
    "remaining_data = data[test_size:, :]\n",
    "\n",
    "train_size = int(0.8 * m)\n",
    "data_train = remaining_data[:train_size, :].T  # El siguiente 80% para entrenamiento\n",
    "data_validation = remaining_data[train_size:, :].T  # El resto 10% para validación\n",
    "\n",
    "X_train, Y_train = data_train[1:], data_train[0].astype(int)\n",
    "X_val, Y_val = data_validation[1:], data_validation[0].astype(int)\n",
    "X_test, Y_test = data_test[1:], data_test[0].astype(int)"
   ]
  },
  {
   "cell_type": "markdown",
   "metadata": {},
   "source": [
    "### Train Data"
   ]
  },
  {
   "cell_type": "markdown",
   "metadata": {},
   "source": [
    "#### SGD Optimizer"
   ]
  },
  {
   "cell_type": "code",
   "execution_count": 187,
   "metadata": {},
   "outputs": [
    {
     "name": "stdout",
     "output_type": "stream",
     "text": [
      "--------------------------------------------------------------------\n",
      "| Epoch   0 | time:  0.18s | val loss 2.280 | valid accuracy 0.160 |\n",
      "--------------------------------------------------------------------\n",
      "| Epoch  10 | time:  0.12s | val loss 1.877 | valid accuracy 0.369 |\n",
      "--------------------------------------------------------------------\n",
      "| Epoch  20 | time:  0.13s | val loss 1.318 | valid accuracy 0.630 |\n",
      "--------------------------------------------------------------------\n",
      "| Epoch  30 | time:  0.13s | val loss 0.972 | valid accuracy 0.725 |\n",
      "--------------------------------------------------------------------\n",
      "| Epoch  40 | time:  0.13s | val loss 0.797 | valid accuracy 0.767 |\n",
      "--------------------------------------------------------------------\n",
      "| Epoch  50 | time:  0.14s | val loss 0.696 | valid accuracy 0.792 |\n",
      "--------------------------------------------------------------------\n",
      "| Epoch  60 | time:  0.12s | val loss 0.628 | valid accuracy 0.806 |\n",
      "--------------------------------------------------------------------\n",
      "| Epoch  70 | time:  0.16s | val loss 0.579 | valid accuracy 0.823 |\n",
      "--------------------------------------------------------------------\n",
      "| Epoch  80 | time:  0.12s | val loss 0.541 | valid accuracy 0.835 |\n",
      "--------------------------------------------------------------------\n",
      "| Epoch  90 | time:  0.14s | val loss 0.512 | valid accuracy 0.844 |\n",
      "--------------------------------------------------------------------\n",
      "| Epoch 100 | time:  0.13s | val loss 0.488 | valid accuracy 0.853 |\n",
      "--------------------------------------------------------------------\n",
      "| Epoch 110 | time:  0.13s | val loss 0.469 | valid accuracy 0.857 |\n",
      "--------------------------------------------------------------------\n",
      "| Epoch 120 | time:  0.12s | val loss 0.456 | valid accuracy 0.861 |\n",
      "--------------------------------------------------------------------\n",
      "| Epoch 130 | time:  0.12s | val loss 0.463 | valid accuracy 0.856 |\n",
      "--------------------------------------------------------------------\n"
     ]
    }
   ],
   "source": [
    "model = SimpleNeuralNetwork(input_size=784, output_size=10, activation_function=relu, activation_function_d=relu_derivative, output_function=softmax)\n",
    "optimizer = SGDOptimizer(learning_rate=0.001)\n",
    "trainer = Trainer(model, optimizer, cross_entropy_loss)\n",
    "trainer.train(X_train, Y_train,X_val,Y_val, epochs=130)"
   ]
  },
  {
   "cell_type": "markdown",
   "metadata": {},
   "source": [
    "#### Adam Optimizer"
   ]
  },
  {
   "cell_type": "code",
   "execution_count": 188,
   "metadata": {},
   "outputs": [
    {
     "name": "stdout",
     "output_type": "stream",
     "text": [
      "--------------------------------------------------------------------\n",
      "| Epoch   0 | time:  0.18s | val loss 2.214 | valid accuracy 0.205 |\n",
      "--------------------------------------------------------------------\n",
      "| Epoch  10 | time:  0.13s | val loss 1.262 | valid accuracy 0.563 |\n",
      "--------------------------------------------------------------------\n",
      "| Epoch  20 | time:  0.12s | val loss 0.763 | valid accuracy 0.762 |\n",
      "--------------------------------------------------------------------\n",
      "| Epoch  30 | time:  0.12s | val loss 0.523 | valid accuracy 0.846 |\n",
      "--------------------------------------------------------------------\n",
      "| Epoch  40 | time:  0.12s | val loss 0.425 | valid accuracy 0.869 |\n",
      "--------------------------------------------------------------------\n",
      "| Epoch  50 | time:  0.12s | val loss 0.375 | valid accuracy 0.885 |\n",
      "--------------------------------------------------------------------\n",
      "| Epoch  60 | time:  0.14s | val loss 0.349 | valid accuracy 0.898 |\n",
      "--------------------------------------------------------------------\n",
      "| Epoch  70 | time:  0.13s | val loss 0.333 | valid accuracy 0.907 |\n",
      "--------------------------------------------------------------------\n",
      "| Epoch  80 | time:  0.13s | val loss 0.321 | valid accuracy 0.908 |\n",
      "--------------------------------------------------------------------\n",
      "| Epoch  90 | time:  0.12s | val loss 0.314 | valid accuracy 0.910 |\n",
      "--------------------------------------------------------------------\n",
      "| Epoch 100 | time:  0.12s | val loss 0.308 | valid accuracy 0.913 |\n",
      "--------------------------------------------------------------------\n",
      "| Epoch 110 | time:  0.12s | val loss 0.304 | valid accuracy 0.913 |\n",
      "--------------------------------------------------------------------\n",
      "| Epoch 120 | time:  0.15s | val loss 0.301 | valid accuracy 0.913 |\n",
      "--------------------------------------------------------------------\n",
      "| Epoch 130 | time:  0.12s | val loss 0.298 | valid accuracy 0.914 |\n",
      "--------------------------------------------------------------------\n"
     ]
    }
   ],
   "source": [
    "model = SimpleNeuralNetwork(input_size=784, output_size=10, activation_function=relu, activation_function_d=relu_derivative, output_function=softmax)\n",
    "optimizer = AdamOptimizer(learning_rate=0.001)\n",
    "trainer = Trainer(model, optimizer, cross_entropy_loss)\n",
    "trainer.train(X_train, Y_train,X_val,Y_val, epochs=130)"
   ]
  },
  {
   "cell_type": "markdown",
   "metadata": {},
   "source": [
    "## Iris Data"
   ]
  },
  {
   "cell_type": "markdown",
   "metadata": {},
   "source": [
    "### Load the Data"
   ]
  },
  {
   "cell_type": "code",
   "execution_count": 189,
   "metadata": {},
   "outputs": [],
   "source": [
    "data = pd.read_csv('../datos/Iris.csv')\n",
    "data = np.array(data)"
   ]
  },
  {
   "cell_type": "markdown",
   "metadata": {},
   "source": [
    "### Label Encoder"
   ]
  },
  {
   "cell_type": "code",
   "execution_count": 190,
   "metadata": {},
   "outputs": [],
   "source": [
    "target_column = data[:, -1]\n",
    "\n",
    "unique_classes, encoded_labels = np.unique(target_column, return_inverse=True)\n",
    "\n",
    "data[:, -1] = encoded_labels"
   ]
  },
  {
   "cell_type": "markdown",
   "metadata": {},
   "source": [
    "### Standard Scaler"
   ]
  },
  {
   "cell_type": "code",
   "execution_count": 191,
   "metadata": {},
   "outputs": [],
   "source": [
    "features = data[:, :-1].astype(np.float64)\n",
    "\n",
    "means = features.mean(axis=0)\n",
    "stds = features.std(axis=0)\n",
    "\n",
    "scaled_features = (features - means) / stds\n",
    "\n",
    "data[:, :-1] = scaled_features"
   ]
  },
  {
   "cell_type": "markdown",
   "metadata": {},
   "source": [
    "### Split Data"
   ]
  },
  {
   "cell_type": "code",
   "execution_count": 192,
   "metadata": {},
   "outputs": [],
   "source": [
    "m, n = data.shape\n",
    "np.random.shuffle(data)\n",
    "\n",
    "test_size = int(0.1 * m)\n",
    "data_test = data[:test_size, :].T  # El 10% inicial para el conjunto de prueba\n",
    "\n",
    "# El conjunto provisional restante (90%)\n",
    "remaining_data = data[test_size:, :]\n",
    "\n",
    "train_size = int(0.8 * m)\n",
    "data_train = remaining_data[:train_size, :].T  # El siguiente 80% para entrenamiento\n",
    "data_validation = remaining_data[train_size:, :].T  # El resto 10% para validación\n",
    "\n",
    "X_train, Y_train = data_train[:-1].astype(np.float64), data_train[-1].astype(int)\n",
    "X_val, Y_val = data_validation[:-1].astype(np.float64), data_validation[-1].astype(int)\n",
    "X_test, Y_test = data_test[:-1].astype(np.float64), data_test[-1].astype(int)"
   ]
  },
  {
   "cell_type": "markdown",
   "metadata": {},
   "source": [
    "### Train Data"
   ]
  },
  {
   "cell_type": "markdown",
   "metadata": {},
   "source": [
    "#### SGDOptimizer"
   ]
  },
  {
   "cell_type": "code",
   "execution_count": 193,
   "metadata": {},
   "outputs": [
    {
     "name": "stdout",
     "output_type": "stream",
     "text": [
      "--------------------------------------------------------------------\n",
      "| Epoch   0 | time:  0.00s | val loss 1.100 | valid accuracy 0.600 |\n",
      "--------------------------------------------------------------------\n",
      "| Epoch  10 | time:  0.00s | val loss 0.986 | valid accuracy 0.600 |\n",
      "--------------------------------------------------------------------\n",
      "| Epoch  20 | time:  0.00s | val loss 0.348 | valid accuracy 1.000 |\n",
      "--------------------------------------------------------------------\n",
      "| Epoch  30 | time:  0.00s | val loss 0.193 | valid accuracy 1.000 |\n",
      "--------------------------------------------------------------------\n",
      "| Epoch  40 | time:  0.00s | val loss 0.128 | valid accuracy 1.000 |\n",
      "--------------------------------------------------------------------\n",
      "| Epoch  50 | time:  0.00s | val loss 0.091 | valid accuracy 1.000 |\n",
      "--------------------------------------------------------------------\n",
      "| Epoch  60 | time:  0.00s | val loss 0.069 | valid accuracy 1.000 |\n",
      "--------------------------------------------------------------------\n",
      "| Epoch  70 | time:  0.00s | val loss 0.055 | valid accuracy 1.000 |\n",
      "--------------------------------------------------------------------\n",
      "| Epoch  80 | time:  0.00s | val loss 0.046 | valid accuracy 1.000 |\n",
      "--------------------------------------------------------------------\n",
      "| Epoch  90 | time:  0.00s | val loss 0.039 | valid accuracy 1.000 |\n",
      "--------------------------------------------------------------------\n",
      "| Epoch 100 | time:  0.00s | val loss 0.035 | valid accuracy 1.000 |\n",
      "--------------------------------------------------------------------\n",
      "| Epoch 110 | time:  0.00s | val loss 0.031 | valid accuracy 1.000 |\n",
      "--------------------------------------------------------------------\n",
      "| Epoch 120 | time:  0.00s | val loss 0.028 | valid accuracy 1.000 |\n",
      "--------------------------------------------------------------------\n",
      "| Epoch 130 | time:  0.00s | val loss 0.025 | valid accuracy 1.000 |\n",
      "--------------------------------------------------------------------\n"
     ]
    }
   ],
   "source": [
    "model = SimpleNeuralNetwork(input_size=4, output_size=3, activation_function=relu, activation_function_d=relu_derivative, output_function=softmax)\n",
    "optimizer = SGDOptimizer(learning_rate=1)\n",
    "trainer = Trainer(model, optimizer, cross_entropy_loss)\n",
    "trainer.train(X_train, Y_train,X_val,Y_val, epochs=130)"
   ]
  },
  {
   "cell_type": "markdown",
   "metadata": {},
   "source": [
    "#### AdamOptimizer"
   ]
  },
  {
   "cell_type": "code",
   "execution_count": 194,
   "metadata": {},
   "outputs": [
    {
     "name": "stdout",
     "output_type": "stream",
     "text": [
      "--------------------------------------------------------------------\n",
      "| Epoch   0 | time:  0.00s | val loss 1.096 | valid accuracy 0.600 |\n",
      "--------------------------------------------------------------------\n",
      "| Epoch  10 | time:  0.00s | val loss 0.287 | valid accuracy 0.933 |\n",
      "--------------------------------------------------------------------\n",
      "| Epoch  20 | time:  0.00s | val loss 0.057 | valid accuracy 1.000 |\n",
      "--------------------------------------------------------------------\n",
      "| Epoch  30 | time:  0.00s | val loss 0.011 | valid accuracy 1.000 |\n",
      "--------------------------------------------------------------------\n",
      "| Epoch  40 | time:  0.00s | val loss 0.008 | valid accuracy 1.000 |\n",
      "--------------------------------------------------------------------\n",
      "| Epoch  50 | time:  0.00s | val loss 0.006 | valid accuracy 1.000 |\n",
      "--------------------------------------------------------------------\n",
      "| Epoch  60 | time:  0.00s | val loss 0.006 | valid accuracy 1.000 |\n",
      "--------------------------------------------------------------------\n",
      "| Epoch  70 | time:  0.00s | val loss 0.005 | valid accuracy 1.000 |\n",
      "--------------------------------------------------------------------\n",
      "| Epoch  80 | time:  0.00s | val loss 0.005 | valid accuracy 1.000 |\n",
      "--------------------------------------------------------------------\n",
      "| Epoch  90 | time:  0.00s | val loss 0.005 | valid accuracy 1.000 |\n",
      "--------------------------------------------------------------------\n",
      "| Epoch 100 | time:  0.00s | val loss 0.005 | valid accuracy 1.000 |\n",
      "--------------------------------------------------------------------\n",
      "| Epoch 110 | time:  0.00s | val loss 0.005 | valid accuracy 1.000 |\n",
      "--------------------------------------------------------------------\n",
      "| Epoch 120 | time:  0.00s | val loss 0.005 | valid accuracy 1.000 |\n",
      "--------------------------------------------------------------------\n",
      "| Epoch 130 | time:  0.00s | val loss 0.005 | valid accuracy 1.000 |\n",
      "--------------------------------------------------------------------\n"
     ]
    }
   ],
   "source": [
    "model = SimpleNeuralNetwork(input_size=4, output_size=3, activation_function=relu, activation_function_d=relu_derivative, output_function=softmax)\n",
    "optimizer = AdamOptimizer(learning_rate=0.1)\n",
    "trainer = Trainer(model, optimizer, cross_entropy_loss)\n",
    "trainer.train(X_train, Y_train,X_val,Y_val, epochs=130)"
   ]
  }
 ],
 "metadata": {
  "kernelspec": {
   "display_name": "Python 3",
   "language": "python",
   "name": "python3"
  },
  "language_info": {
   "codemirror_mode": {
    "name": "ipython",
    "version": 3
   },
   "file_extension": ".py",
   "mimetype": "text/x-python",
   "name": "python",
   "nbconvert_exporter": "python",
   "pygments_lexer": "ipython3",
   "version": "3.7.0"
  }
 },
 "nbformat": 4,
 "nbformat_minor": 2
}
