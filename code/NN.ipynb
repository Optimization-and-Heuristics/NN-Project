{
 "cells": [
  {
   "cell_type": "code",
   "execution_count": 88,
   "metadata": {},
   "outputs": [],
   "source": [
    "import pandas as pd\n",
    "import numpy as np\n",
    "from clases.NeuronalNetwork import SimpleNeuralNetwork\n",
    "from clases.Optimizer import SGDOptimizer, AdamOptimizer\n",
    "from clases.Trainer import Trainer\n",
    "from clases.LossFunction import *\n",
    "from clases.ActivationFunction import *\n",
    "\n",
    "import warnings\n",
    "warnings.filterwarnings(\"ignore\")"
   ]
  },
  {
   "cell_type": "markdown",
   "metadata": {},
   "source": [
    "## MNIST Data"
   ]
  },
  {
   "cell_type": "markdown",
   "metadata": {},
   "source": [
    "### Load Data"
   ]
  },
  {
   "cell_type": "code",
   "execution_count": 124,
   "metadata": {},
   "outputs": [],
   "source": [
    "data = pd.read_csv('../datos/mnist_data.csv')\n",
    "data = np.array(data)"
   ]
  },
  {
   "cell_type": "markdown",
   "metadata": {},
   "source": [
    "### Split Data"
   ]
  },
  {
   "cell_type": "code",
   "execution_count": 125,
   "metadata": {},
   "outputs": [],
   "source": [
    "m, n = data.shape\n",
    "np.random.shuffle(data)\n",
    "\n",
    "test_size = int(0.1 * m)\n",
    "data_test = data[:test_size, :].T  # El 10% inicial para el conjunto de prueba\n",
    "\n",
    "# El conjunto provisional restante (90%)\n",
    "remaining_data = data[test_size:, :]\n",
    "\n",
    "train_size = int(0.8 * m)\n",
    "data_train = remaining_data[:train_size, :].T  # El siguiente 80% para entrenamiento\n",
    "data_validation = remaining_data[train_size:, :].T  # El resto 10% para validación\n",
    "\n",
    "X_train, Y_train = data_train[1:], data_train[0].astype(int)\n",
    "X_val, Y_val = data_validation[1:], data_validation[0].astype(int)\n",
    "X_test, Y_test = data_test[1:], data_test[0].astype(int)"
   ]
  },
  {
   "cell_type": "code",
   "execution_count": 126,
   "metadata": {},
   "outputs": [],
   "source": [
    "import matplotlib.pyplot as plt\n",
    "def confusion_matrix(Y_test, Y_pred):\n",
    "    # Número de clases (suponemos que sabemos la cantidad de clases)\n",
    "    num_classes = np.max([Y_test.max(), Y_pred.max()]) + 1\n",
    "\n",
    "    # Crear la matriz de confusión manualmente\n",
    "    conf_matrix = np.zeros((num_classes, num_classes), dtype=int)\n",
    "    for true_label, pred_label in zip(Y_test, Y_pred):\n",
    "        conf_matrix[true_label, pred_label] += 1\n",
    "\n",
    "    # Visualizar la matriz de confusión\n",
    "    plt.figure(figsize=(8, 6))\n",
    "    plt.imshow(conf_matrix, cmap=\"Blues\")\n",
    "    plt.colorbar()\n",
    "    plt.title(\"Confusion Matrix\")\n",
    "    plt.xlabel(\"Predicted Labels\")\n",
    "    plt.ylabel(\"True Labels\")\n",
    "\n",
    "    # Añadir anotaciones en cada celda\n",
    "    for i in range(num_classes):\n",
    "        for j in range(num_classes):\n",
    "            plt.text(j, i, conf_matrix[i, j], ha=\"center\", va=\"center\", color=\"black\")\n",
    "\n",
    "    plt.show()"
   ]
  },
  {
   "cell_type": "code",
   "execution_count": 127,
   "metadata": {},
   "outputs": [],
   "source": [
    "def predict(X, model):\n",
    "    # Forward pass para obtener las predicciones\n",
    "    model.forward(X)\n",
    "    return np.argmax(model.A2, axis=0)"
   ]
  },
  {
   "cell_type": "markdown",
   "metadata": {},
   "source": [
    "### Train Data"
   ]
  },
  {
   "cell_type": "markdown",
   "metadata": {},
   "source": [
    "#### SGD Optimizer"
   ]
  },
  {
   "cell_type": "code",
   "execution_count": 93,
   "metadata": {},
   "outputs": [
    {
     "name": "stdout",
     "output_type": "stream",
     "text": [
      "--------------------------------------------------------------------\n",
      "| Epoch   0 | time:  0.20s | val loss 2.324 | valid accuracy 0.097 |\n",
      "--------------------------------------------------------------------\n",
      "| Epoch  10 | time:  0.23s | val loss 2.156 | valid accuracy 0.203 |\n",
      "--------------------------------------------------------------------\n",
      "| Epoch  20 | time:  0.20s | val loss 1.937 | valid accuracy 0.309 |\n",
      "--------------------------------------------------------------------\n",
      "| Epoch  30 | time:  0.18s | val loss 1.586 | valid accuracy 0.461 |\n",
      "--------------------------------------------------------------------\n",
      "| Epoch  40 | time:  0.17s | val loss 1.178 | valid accuracy 0.658 |\n",
      "--------------------------------------------------------------------\n",
      "| Epoch  50 | time:  0.28s | val loss 0.928 | valid accuracy 0.719 |\n",
      "--------------------------------------------------------------------\n",
      "| Epoch  60 | time:  0.25s | val loss 0.795 | valid accuracy 0.758 |\n",
      "--------------------------------------------------------------------\n",
      "| Epoch  70 | time:  0.19s | val loss 0.712 | valid accuracy 0.785 |\n",
      "--------------------------------------------------------------------\n",
      "| Epoch  80 | time:  0.25s | val loss 0.908 | valid accuracy 0.684 |\n",
      "--------------------------------------------------------------------\n",
      "| Epoch  90 | time:  0.18s | val loss 0.687 | valid accuracy 0.762 |\n",
      "--------------------------------------------------------------------\n",
      "| Epoch 100 | time:  0.20s | val loss 0.631 | valid accuracy 0.788 |\n",
      "--------------------------------------------------------------------\n",
      "| Epoch 110 | time:  0.21s | val loss 0.595 | valid accuracy 0.802 |\n",
      "--------------------------------------------------------------------\n",
      "| Epoch 120 | time:  0.20s | val loss 0.562 | valid accuracy 0.816 |\n",
      "--------------------------------------------------------------------\n",
      "| Epoch 130 | time:  0.19s | val loss 0.534 | valid accuracy 0.827 |\n",
      "--------------------------------------------------------------------\n"
     ]
    }
   ],
   "source": [
    "model = SimpleNeuralNetwork(input_size=784, output_size=10, activation_function=relu, activation_function_d=relu_derivative, output_function=softmax)\n",
    "optimizer = SGDOptimizer(learning_rate=0.001)\n",
    "trainer = Trainer(model, optimizer, cross_entropy_loss)\n",
    "trainer.train(X_train, Y_train,X_val,Y_val, epochs=130)"
   ]
  },
  {
   "cell_type": "code",
   "execution_count": 94,
   "metadata": {},
   "outputs": [
    {
     "name": "stdout",
     "output_type": "stream",
     "text": [
      "Accuracy: 0.8383333333333334\n"
     ]
    }
   ],
   "source": [
    "# Haz pruebas para el conjunto de prueba\n",
    "Y_pred = predict(X_test, model)\n",
    "accuracy = np.mean(Y_pred == Y_test)\n",
    "\n",
    "print(f\"Accuracy: {accuracy}\")"
   ]
  },
  {
   "cell_type": "code",
   "execution_count": 95,
   "metadata": {},
   "outputs": [
    {
     "data": {
      "text/plain": [
       "array([[375.,   0.,   4.,   5.,   1.,   7.,   4.,   3.,   2.,   2.],\n",
       "       [  0., 480.,   1.,   2.,   0.,   2.,   1.,   1.,   6.,   0.],\n",
       "       [  7.,  10., 346.,   4.,   6.,   4.,  15.,  11.,  16.,   1.],\n",
       "       [  6.,   7.,  15., 293.,   1.,  62.,   2.,   7.,  35.,   1.],\n",
       "       [  4.,   2.,   7.,   0., 376.,   0.,   8.,   1.,   1.,  12.],\n",
       "       [  4.,   3.,   4.,  20.,  11., 288.,  10.,   0.,  25.,   5.],\n",
       "       [  2.,   2.,  12.,   0.,   6.,   6., 378.,   0.,   5.,   0.],\n",
       "       [  2.,   8.,   8.,   2.,   3.,   0.,   0., 389.,   4.,  25.],\n",
       "       [  2.,   7.,   6.,   6.,   7.,  17.,   6.,   0., 327.,   8.],\n",
       "       [  6.,   3.,   2.,   4., 100.,   7.,   0.,  33.,  12., 269.]])"
      ]
     },
     "execution_count": 95,
     "metadata": {},
     "output_type": "execute_result"
    }
   ],
   "source": [
    "confusion_matrix(Y_test, Y_pred)"
   ]
  },
  {
   "cell_type": "markdown",
   "metadata": {},
   "source": [
    "#### Adam Optimizer"
   ]
  },
  {
   "cell_type": "code",
   "execution_count": 128,
   "metadata": {},
   "outputs": [
    {
     "name": "stdout",
     "output_type": "stream",
     "text": [
      "--------------------------------------------------------------------\n",
      "| Epoch   0 | time:  0.19s | val loss 2.189 | valid accuracy 0.235 |\n",
      "--------------------------------------------------------------------\n",
      "| Epoch  10 | time:  0.20s | val loss 0.764 | valid accuracy 0.742 |\n",
      "--------------------------------------------------------------------\n",
      "| Epoch  20 | time:  0.19s | val loss 0.471 | valid accuracy 0.855 |\n",
      "--------------------------------------------------------------------\n",
      "| Epoch  30 | time:  0.18s | val loss 0.391 | valid accuracy 0.889 |\n",
      "--------------------------------------------------------------------\n",
      "| Epoch  40 | time:  0.23s | val loss 0.347 | valid accuracy 0.902 |\n",
      "--------------------------------------------------------------------\n",
      "| Epoch  50 | time:  0.20s | val loss 0.319 | valid accuracy 0.905 |\n",
      "--------------------------------------------------------------------\n",
      "| Epoch  60 | time:  0.22s | val loss 0.301 | valid accuracy 0.910 |\n",
      "--------------------------------------------------------------------\n",
      "| Epoch  70 | time:  0.19s | val loss 0.288 | valid accuracy 0.915 |\n",
      "--------------------------------------------------------------------\n",
      "| Epoch  80 | time:  0.20s | val loss 0.279 | valid accuracy 0.918 |\n",
      "--------------------------------------------------------------------\n",
      "| Epoch  90 | time:  0.19s | val loss 0.271 | valid accuracy 0.922 |\n",
      "--------------------------------------------------------------------\n",
      "| Epoch 100 | time:  0.21s | val loss 0.265 | valid accuracy 0.925 |\n",
      "--------------------------------------------------------------------\n",
      "| Epoch 110 | time:  0.18s | val loss 0.259 | valid accuracy 0.927 |\n",
      "--------------------------------------------------------------------\n",
      "| Epoch 120 | time:  0.20s | val loss 0.254 | valid accuracy 0.929 |\n",
      "--------------------------------------------------------------------\n",
      "| Epoch 130 | time:  0.20s | val loss 0.251 | valid accuracy 0.929 |\n",
      "--------------------------------------------------------------------\n"
     ]
    }
   ],
   "source": [
    "model = SimpleNeuralNetwork(input_size=784, output_size=10, activation_function=relu, activation_function_d=relu_derivative, output_function=softmax)\n",
    "optimizer = AdamOptimizer(learning_rate=0.001)\n",
    "trainer = Trainer(model, optimizer, cross_entropy_loss)\n",
    "trainer.train(X_train, Y_train,X_val,Y_val, epochs=130)"
   ]
  },
  {
   "cell_type": "code",
   "execution_count": 129,
   "metadata": {},
   "outputs": [
    {
     "name": "stdout",
     "output_type": "stream",
     "text": [
      "Accuracy: 0.9292857142857143\n"
     ]
    }
   ],
   "source": [
    "# Haz pruebas para el conjunto de prueba\n",
    "Y_pred = predict(X_test, model)\n",
    "accuracy = np.mean(Y_pred == Y_test)\n",
    "\n",
    "print(f\"Accuracy: {accuracy}\")"
   ]
  },
  {
   "cell_type": "code",
   "execution_count": 130,
   "metadata": {},
   "outputs": [
    {
     "data": {
      "image/png": "[encoded data removed]",
      "text/plain": [
       "<Figure size 800x600 with 2 Axes>"
      ]
     },
     "metadata": {},
     "output_type": "display_data"
    }
   ],
   "source": [
    "confusion_matrix(Y_test, Y_pred)"
   ]
  },
  {
   "cell_type": "markdown",
   "metadata": {},
   "source": [
    "## Iris Data"
   ]
  },
  {
   "cell_type": "markdown",
   "metadata": {},
   "source": [
    "### Load the Data"
   ]
  },
  {
   "cell_type": "code",
   "execution_count": 113,
   "metadata": {},
   "outputs": [],
   "source": [
    "data = pd.read_csv('../datos/Iris.csv')\n",
    "data = np.array(data)"
   ]
  },
  {
   "cell_type": "markdown",
   "metadata": {},
   "source": [
    "### Label Encoder"
   ]
  },
  {
   "cell_type": "code",
   "execution_count": 114,
   "metadata": {},
   "outputs": [],
   "source": [
    "target_column = data[:, -1]\n",
    "\n",
    "unique_classes, encoded_labels = np.unique(target_column, return_inverse=True)\n",
    "\n",
    "data[:, -1] = encoded_labels"
   ]
  },
  {
   "cell_type": "markdown",
   "metadata": {},
   "source": [
    "### Standard Scaler"
   ]
  },
  {
   "cell_type": "code",
   "execution_count": 115,
   "metadata": {},
   "outputs": [],
   "source": [
    "features = data[:, :-1].astype(np.float64)\n",
    "\n",
    "means = features.mean(axis=0)\n",
    "stds = features.std(axis=0)\n",
    "\n",
    "scaled_features = (features - means) / stds\n",
    "\n",
    "data[:, :-1] = scaled_features"
   ]
  },
  {
   "cell_type": "markdown",
   "metadata": {},
   "source": [
    "### Split Data"
   ]
  },
  {
   "cell_type": "code",
   "execution_count": 116,
   "metadata": {},
   "outputs": [],
   "source": [
    "m, n = data.shape\n",
    "np.random.shuffle(data)\n",
    "\n",
    "test_size = int(0.1 * m)\n",
    "data_test = data[:test_size, :].T  # El 10% inicial para el conjunto de prueba\n",
    "\n",
    "# El conjunto provisional restante (90%)\n",
    "remaining_data = data[test_size:, :]\n",
    "\n",
    "train_size = int(0.8 * m)\n",
    "data_train = remaining_data[:train_size, :].T  # El siguiente 80% para entrenamiento\n",
    "data_validation = remaining_data[train_size:, :].T  # El resto 10% para validación\n",
    "\n",
    "X_train, Y_train = data_train[:-1].astype(np.float64), data_train[-1].astype(int)\n",
    "X_val, Y_val = data_validation[:-1].astype(np.float64), data_validation[-1].astype(int)\n",
    "X_test, Y_test = data_test[:-1].astype(np.float64), data_test[-1].astype(int)"
   ]
  },
  {
   "cell_type": "markdown",
   "metadata": {},
   "source": [
    "### Train Data"
   ]
  },
  {
   "cell_type": "markdown",
   "metadata": {},
   "source": [
    "#### SGDOptimizer"
   ]
  },
  {
   "cell_type": "code",
   "execution_count": 117,
   "metadata": {},
   "outputs": [
    {
     "name": "stdout",
     "output_type": "stream",
     "text": [
      "--------------------------------------------------------------------\n",
      "| Epoch   0 | time:  0.00s | val loss 1.096 | valid accuracy 0.467 |\n",
      "--------------------------------------------------------------------\n",
      "| Epoch  10 | time:  0.00s | val loss 0.799 | valid accuracy 0.667 |\n",
      "--------------------------------------------------------------------\n",
      "| Epoch  20 | time:  0.00s | val loss 0.628 | valid accuracy 0.733 |\n",
      "--------------------------------------------------------------------\n",
      "| Epoch  30 | time:  0.00s | val loss 0.594 | valid accuracy 0.733 |\n",
      "--------------------------------------------------------------------\n",
      "| Epoch  40 | time:  0.00s | val loss 0.578 | valid accuracy 0.733 |\n",
      "--------------------------------------------------------------------\n",
      "| Epoch  50 | time:  0.00s | val loss 0.564 | valid accuracy 0.800 |\n",
      "--------------------------------------------------------------------\n",
      "| Epoch  60 | time:  0.00s | val loss 0.501 | valid accuracy 0.933 |\n",
      "--------------------------------------------------------------------\n",
      "| Epoch  70 | time:  0.00s | val loss 0.328 | valid accuracy 1.000 |\n",
      "--------------------------------------------------------------------\n",
      "| Epoch  80 | time:  0.00s | val loss 0.212 | valid accuracy 1.000 |\n",
      "--------------------------------------------------------------------\n",
      "| Epoch  90 | time:  0.00s | val loss 0.157 | valid accuracy 1.000 |\n",
      "--------------------------------------------------------------------\n",
      "| Epoch 100 | time:  0.00s | val loss 0.132 | valid accuracy 1.000 |\n",
      "--------------------------------------------------------------------\n",
      "| Epoch 110 | time:  0.00s | val loss 0.118 | valid accuracy 1.000 |\n",
      "--------------------------------------------------------------------\n",
      "| Epoch 120 | time:  0.00s | val loss 0.108 | valid accuracy 1.000 |\n",
      "--------------------------------------------------------------------\n",
      "| Epoch 130 | time:  0.00s | val loss 0.101 | valid accuracy 1.000 |\n",
      "--------------------------------------------------------------------\n"
     ]
    }
   ],
   "source": [
    "model = SimpleNeuralNetwork(input_size=4, output_size=3, activation_function=relu, activation_function_d=relu_derivative, output_function=softmax)\n",
    "optimizer = SGDOptimizer(learning_rate=1)\n",
    "trainer = Trainer(model, optimizer, cross_entropy_loss)\n",
    "trainer.train(X_train, Y_train,X_val,Y_val, epochs=130)"
   ]
  },
  {
   "cell_type": "code",
   "execution_count": 118,
   "metadata": {},
   "outputs": [
    {
     "name": "stdout",
     "output_type": "stream",
     "text": [
      "Accuracy: 1.0\n"
     ]
    }
   ],
   "source": [
    "# Haz pruebas para el conjunto de prueba\n",
    "Y_pred = predict(X_test, model)\n",
    "accuracy = np.mean(Y_pred == Y_test)\n",
    "\n",
    "print(f\"Accuracy: {accuracy}\")"
   ]
  },
  {
   "cell_type": "code",
   "execution_count": 119,
   "metadata": {},
   "outputs": [
    {
     "data": {
      "image/png": "[encoded data removed]",
      "text/plain": [
       "<Figure size 800x600 with 2 Axes>"
      ]
     },
     "metadata": {},
     "output_type": "display_data"
    }
   ],
   "source": [
    "confusion_matrix(Y_test, Y_pred)"
   ]
  },
  {
   "cell_type": "markdown",
   "metadata": {},
   "source": [
    "#### AdamOptimizer"
   ]
  },
  {
   "cell_type": "code",
   "execution_count": 120,
   "metadata": {},
   "outputs": [
    {
     "name": "stdout",
     "output_type": "stream",
     "text": [
      "--------------------------------------------------------------------\n",
      "| Epoch   0 | time:  0.00s | val loss 1.065 | valid accuracy 0.467 |\n",
      "--------------------------------------------------------------------\n",
      "| Epoch  10 | time:  0.00s | val loss 0.350 | valid accuracy 0.933 |\n",
      "--------------------------------------------------------------------\n",
      "| Epoch  20 | time:  0.00s | val loss 0.115 | valid accuracy 0.933 |\n",
      "--------------------------------------------------------------------\n",
      "| Epoch  30 | time:  0.00s | val loss 0.056 | valid accuracy 1.000 |\n",
      "--------------------------------------------------------------------\n",
      "| Epoch  40 | time:  0.00s | val loss 0.065 | valid accuracy 1.000 |\n",
      "--------------------------------------------------------------------\n",
      "| Epoch  50 | time:  0.00s | val loss 0.063 | valid accuracy 1.000 |\n",
      "--------------------------------------------------------------------\n",
      "| Epoch  60 | time:  0.00s | val loss 0.051 | valid accuracy 1.000 |\n",
      "--------------------------------------------------------------------\n",
      "| Epoch  70 | time:  0.00s | val loss 0.051 | valid accuracy 1.000 |\n",
      "--------------------------------------------------------------------\n",
      "| Epoch  80 | time:  0.00s | val loss 0.051 | valid accuracy 1.000 |\n",
      "--------------------------------------------------------------------\n",
      "| Epoch  90 | time:  0.00s | val loss 0.047 | valid accuracy 1.000 |\n",
      "--------------------------------------------------------------------\n",
      "| Epoch 100 | time:  0.00s | val loss 0.048 | valid accuracy 1.000 |\n",
      "--------------------------------------------------------------------\n",
      "| Epoch 110 | time:  0.00s | val loss 0.047 | valid accuracy 1.000 |\n",
      "--------------------------------------------------------------------\n",
      "| Epoch 120 | time:  0.00s | val loss 0.046 | valid accuracy 1.000 |\n",
      "--------------------------------------------------------------------\n",
      "| Epoch 130 | time:  0.00s | val loss 0.046 | valid accuracy 1.000 |\n",
      "--------------------------------------------------------------------\n"
     ]
    }
   ],
   "source": [
    "model = SimpleNeuralNetwork(input_size=4, output_size=3, activation_function=relu, activation_function_d=relu_derivative, output_function=softmax)\n",
    "optimizer = AdamOptimizer(learning_rate=0.1)\n",
    "trainer = Trainer(model, optimizer, cross_entropy_loss)\n",
    "trainer.train(X_train, Y_train,X_val,Y_val, epochs=130)"
   ]
  },
  {
   "cell_type": "code",
   "execution_count": 121,
   "metadata": {},
   "outputs": [
    {
     "name": "stdout",
     "output_type": "stream",
     "text": [
      "Accuracy: 1.0\n"
     ]
    }
   ],
   "source": [
    "# Haz pruebas para el conjunto de prueba\n",
    "Y_pred = predict(X_test, model)\n",
    "accuracy = np.mean(Y_pred == Y_test)\n",
    "\n",
    "print(f\"Accuracy: {accuracy}\")"
   ]
  },
  {
   "cell_type": "code",
   "execution_count": 122,
   "metadata": {},
   "outputs": [
    {
     "data": {
      "image/png": "[encoded data removed]",
      "text/plain": [
       "<Figure size 800x600 with 2 Axes>"
      ]
     },
     "metadata": {},
     "output_type": "display_data"
    }
   ],
   "source": [
    "confusion_matrix(Y_test, Y_pred)"
   ]
  }
 ],
 "metadata": {
  "kernelspec": {
   "display_name": "Python 3",
   "language": "python",
   "name": "python3"
  },
  "language_info": {
   "codemirror_mode": {
    "name": "ipython",
    "version": 3
   },
   "file_extension": ".py",
   "mimetype": "text/x-python",
   "name": "python",
   "nbconvert_exporter": "python",
   "pygments_lexer": "ipython3",
   "version": "3.8.10"
  }
 },
 "nbformat": 4,
 "nbformat_minor": 2
}
