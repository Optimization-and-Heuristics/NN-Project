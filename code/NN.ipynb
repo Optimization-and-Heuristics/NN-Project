{
 "cells": [
  {
   "cell_type": "code",
   "execution_count": 1,
   "metadata": {},
   "outputs": [],
   "source": [
    "import pandas as pd\n",
    "import numpy as np\n",
    "from clases.NeuronalNetwork import SimpleNeuralNetwork\n",
    "from clases.Optimizer import SGDOptimizer, AdamOptimizer\n",
    "from clases.Trainer import Trainer\n",
    "from clases.LossFunction import *\n",
    "import warnings\n",
    "from clases.ActivationFunction import *"
   ]
  },
  {
   "cell_type": "code",
   "execution_count": 2,
   "metadata": {},
   "outputs": [],
   "source": [
    "warnings.filterwarnings(\"ignore\")\n",
    "\n",
    "data = pd.read_csv('../datos/mnist_data.csv')\n",
    "data = np.array(data)\n",
    "m, n = data.shape\n",
    "np.random.shuffle(data)\n",
    "\n",
    "test_size = int(0.1 * m)\n",
    "data_test = data[:test_size, :].T  # El 10% inicial para el conjunto de prueba\n",
    "\n",
    "# El conjunto provisional restante (90%)\n",
    "remaining_data = data[test_size:, :]\n",
    "\n",
    "train_size = int(0.8 * m)\n",
    "data_train = remaining_data[:train_size, :].T  # El siguiente 80% para entrenamiento\n",
    "data_validation = remaining_data[train_size:, :].T  # El resto 10% para validación\n",
    "\n",
    "X_train, Y_train = data_train[1:], data_train[0]\n",
    "X_val, Y_val = data_validation[1:], data_validation[0]\n",
    "X_test, Y_test = data_test[1:], data_test[0]"
   ]
  },
  {
   "cell_type": "code",
   "execution_count": 3,
   "metadata": {},
   "outputs": [
    {
     "name": "stdout",
     "output_type": "stream",
     "text": [
      "--------------------------------------------------------------------\n",
      "| Epoch   0 | time:  0.14s | val loss 2.338 | valid accuracy 0.108 |\n",
      "--------------------------------------------------------------------\n",
      "| Epoch  10 | time:  0.14s | val loss 2.086 | valid accuracy 0.245 |\n",
      "--------------------------------------------------------------------\n",
      "| Epoch  20 | time:  0.13s | val loss 1.700 | valid accuracy 0.418 |\n",
      "--------------------------------------------------------------------\n",
      "| Epoch  30 | time:  0.14s | val loss 1.293 | valid accuracy 0.593 |\n",
      "--------------------------------------------------------------------\n",
      "| Epoch  40 | time:  0.13s | val loss 0.996 | valid accuracy 0.704 |\n",
      "--------------------------------------------------------------------\n",
      "| Epoch  50 | time:  0.13s | val loss 0.820 | valid accuracy 0.759 |\n",
      "--------------------------------------------------------------------\n",
      "| Epoch  60 | time:  0.14s | val loss 0.712 | valid accuracy 0.787 |\n",
      "--------------------------------------------------------------------\n",
      "| Epoch  70 | time:  0.14s | val loss 0.641 | valid accuracy 0.814 |\n",
      "--------------------------------------------------------------------\n",
      "| Epoch  80 | time:  0.13s | val loss 0.591 | valid accuracy 0.831 |\n",
      "--------------------------------------------------------------------\n",
      "| Epoch  90 | time:  0.13s | val loss 0.554 | valid accuracy 0.845 |\n",
      "--------------------------------------------------------------------\n",
      "| Epoch 100 | time:  0.13s | val loss 0.525 | valid accuracy 0.852 |\n",
      "--------------------------------------------------------------------\n"
     ]
    }
   ],
   "source": [
    "model = SimpleNeuralNetwork(input_size=784, output_size=10, activation_function=relu, activation_function_d=relu_derivative, output_function=softmax)\n",
    "optimizer = SGDOptimizer(learning_rate=0.001)\n",
    "trainer = Trainer(model, optimizer, cross_entropy_loss)\n",
    "trainer.train(X_train, Y_train,X_val,Y_val, epochs=100)"
   ]
  },
  {
   "cell_type": "code",
   "execution_count": 4,
   "metadata": {},
   "outputs": [
    {
     "name": "stdout",
     "output_type": "stream",
     "text": [
      "--------------------------------------------------------------------\n",
      "| Epoch   0 | time:  0.17s | val loss 2.214 | valid accuracy 0.184 |\n",
      "--------------------------------------------------------------------\n",
      "| Epoch  10 | time:  0.16s | val loss 0.990 | valid accuracy 0.678 |\n",
      "--------------------------------------------------------------------\n",
      "| Epoch  20 | time:  0.14s | val loss 0.555 | valid accuracy 0.827 |\n",
      "--------------------------------------------------------------------\n",
      "| Epoch  30 | time:  0.14s | val loss 0.441 | valid accuracy 0.867 |\n",
      "--------------------------------------------------------------------\n",
      "| Epoch  40 | time:  0.16s | val loss 0.380 | valid accuracy 0.889 |\n",
      "--------------------------------------------------------------------\n",
      "| Epoch  50 | time:  0.13s | val loss 0.348 | valid accuracy 0.900 |\n",
      "--------------------------------------------------------------------\n",
      "| Epoch  60 | time:  0.15s | val loss 0.327 | valid accuracy 0.909 |\n",
      "--------------------------------------------------------------------\n",
      "| Epoch  70 | time:  0.14s | val loss 0.313 | valid accuracy 0.911 |\n",
      "--------------------------------------------------------------------\n",
      "| Epoch  80 | time:  0.16s | val loss 0.302 | valid accuracy 0.913 |\n",
      "--------------------------------------------------------------------\n",
      "| Epoch  90 | time:  0.14s | val loss 0.294 | valid accuracy 0.915 |\n",
      "--------------------------------------------------------------------\n",
      "| Epoch 100 | time:  0.16s | val loss 0.288 | valid accuracy 0.918 |\n",
      "--------------------------------------------------------------------\n"
     ]
    }
   ],
   "source": [
    "model = SimpleNeuralNetwork(input_size=784, output_size=10, activation_function=relu, activation_function_d=relu_derivative, output_function=softmax)\n",
    "optimizer = AdamOptimizer(learning_rate=0.001)\n",
    "trainer = Trainer(model, optimizer, cross_entropy_loss)\n",
    "trainer.train(X_train, Y_train,X_val,Y_val, epochs=100)"
   ]
  }
 ],
 "metadata": {
  "kernelspec": {
   "display_name": "Python 3",
   "language": "python",
   "name": "python3"
  },
  "language_info": {
   "codemirror_mode": {
    "name": "ipython",
    "version": 3
   },
   "file_extension": ".py",
   "mimetype": "text/x-python",
   "name": "python",
   "nbconvert_exporter": "python",
   "pygments_lexer": "ipython3",
   "version": "3.7.0"
  }
 },
 "nbformat": 4,
 "nbformat_minor": 2
}
